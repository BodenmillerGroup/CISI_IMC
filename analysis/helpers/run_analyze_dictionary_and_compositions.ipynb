{
 "cells": [
  {
   "cell_type": "markdown",
   "id": "aa3e7b70",
   "metadata": {},
   "source": [
    "# Single Cell Decompression Training Analysis"
   ]
  },
  {
   "cell_type": "markdown",
   "id": "c7b046f9",
   "metadata": {},
   "source": [
    "## Import Libraries\n",
    "\n",
    "First, we import the neccessary libraries."
   ]
  },
  {
   "cell_type": "code",
   "execution_count": 1,
   "id": "5bcfe9ff",
   "metadata": {},
   "outputs": [],
   "source": [
    "# Import libraries\n",
    "import anndata as ad\n",
    "from pathlib import Path\n",
    "import errno\n",
    "import os\n",
    "import numpy as np\n",
    "import pandas as pd"
   ]
  },
  {
   "cell_type": "markdown",
   "id": "a151797d",
   "metadata": {},
   "source": [
    "## Helper Functions\n",
    "\n",
    "Next, we import some helper functions including the cisi segementation training function."
   ]
  },
  {
   "cell_type": "code",
   "execution_count": 2,
   "id": "53a914bd",
   "metadata": {},
   "outputs": [],
   "source": [
    "# Helper fncs\n",
    "import analysis_utils\n",
    "\n",
    "\n",
    "## CISI\n",
    "# Import system libraries to configure code directory as module\n",
    "from os.path import dirname, abspath, join\n",
    "import sys\n",
    "\n",
    "# Find code directory relative to our directory\n",
    "THIS_DIR = dirname('__file__')\n",
    "CODE_DIR = abspath(join(THIS_DIR, '../../', 'code'))\n",
    "# Add code directory to systems paths\n",
    "sys.path.append(CODE_DIR)\n",
    "\n",
    "# Import CISI analysis fnc.\n",
    "from analyze_dictionary_and_compositions import analyze_U_and_A"
   ]
  },
  {
   "cell_type": "markdown",
   "id": "7124f068",
   "metadata": {},
   "source": [
    "## Inputs\n",
    "\n",
    "In the first part we specify the paths to the input files (.h5ad files created from R SpatialExperiment) and where the outputs should be stored."
   ]
  },
  {
   "cell_type": "code",
   "execution_count": 6,
   "id": "42b81cab",
   "metadata": {},
   "outputs": [],
   "source": [
    "# Specify input paths\n",
    "data_path = Path('/mnt/bb_dqbm_volume')\n",
    "analysis_path = Path(os.path.join(data_path,\n",
    "                                  'analysis/Immucan_lung/training/full'))\n",
    "\n",
    "# Specify output path\n",
    "out_path = Path(os.path.join(data_path, 'analysis/Immucan_lung/training/full/normalized_combi'))\n",
    "# Create output directory if it doesn't exist\n",
    "out_path.mkdir(parents=True, exist_ok=True)"
   ]
  },
  {
   "cell_type": "markdown",
   "id": "573b54eb",
   "metadata": {},
   "source": [
    "Next, we read in the input files for analysis."
   ]
  },
  {
   "cell_type": "code",
   "execution_count": 7,
   "id": "b82f3e4f",
   "metadata": {},
   "outputs": [
    {
     "name": "stdout",
     "output_type": "stream",
     "text": [
      "AnnData object with n_obs × n_vars = 2205407 × 37\n",
      "    obs: 'sample_id', 'ObjectNumber', 'Pos_X', 'Pos_Y', 'area', 'major_axis_length', 'minor_axis_length', 'eccentricity', 'width_px', 'height_px', 'acquisition_id', 'image', 'Slide_id', 'slide_position', 'sample_name', 'ROI', 'sample_type', 'subbatch', 'cell_id', 'cell_labels', 'celltype', 'celltype_minor', 'TLS', 'distance_to_TLS', 'Tumor_mask', 'distance_to_Tumor', 'CN_30_15', 'CN_minor_30_15', 'clusters'\n",
      "    var: 'channel', 'name', 'keep', 'ilastik', 'deepcell', 'Tube.Number', 'Target', 'Antibody.Clone', 'Stock.Concentration', 'Final.Concentration...Dilution', 'uL.to.add', 'tumorMask', 'channel_name'\n",
      "    uns: 'X_name'\n"
     ]
    }
   ],
   "source": [
    "# Read in SingleCellExperiment converted to anndata by cellconverter in R\n",
    "X_test = ad.read_h5ad(os.path.join(analysis_path, 'unnormalized/X_test.h5ad'))\n",
    "U = pd.read_csv(os.path.join(analysis_path, 'normalized/gene_modules.csv'), delimiter=',',\n",
    "               index_col=0).to_numpy()\n",
    "Phi = pd.read_csv(os.path.join(analysis_path, 'normalized/version_19.txt'), delimiter='\\t',\n",
    "               index_col=0).to_numpy()\n",
    "\n",
    "print(X_test)"
   ]
  },
  {
   "cell_type": "code",
   "execution_count": 8,
   "id": "e1c06904",
   "metadata": {
    "scrolled": true
   },
   "outputs": [
    {
     "name": "stderr",
     "output_type": "stream",
     "text": [
      "/home/ubuntu/anaconda3/envs/cisi_imc_env/lib/python3.10/site-packages/scipy/spatial/distance.py:630: RuntimeWarning: invalid value encountered in double_scalars\n",
      "  dist = 1.0 - uv / np.sqrt(uu * vv)\n"
     ]
    }
   ],
   "source": [
    "# Test spillover corrected results not spillover corrected data for simulation and analysis\n",
    "training_res, training_res_noisy = analyze_U_and_A(X_test, U, [Phi], ['none'], out_path,\n",
    "                                                   None, norm='none')"
   ]
  }
 ],
 "metadata": {
  "kernelspec": {
   "display_name": "cisi_imc",
   "language": "python",
   "name": "cisi_imc"
  },
  "language_info": {
   "codemirror_mode": {
    "name": "ipython",
    "version": 3
   },
   "file_extension": ".py",
   "mimetype": "text/x-python",
   "name": "python",
   "nbconvert_exporter": "python",
   "pygments_lexer": "ipython3",
   "version": "3.10.4"
  }
 },
 "nbformat": 4,
 "nbformat_minor": 5
}
