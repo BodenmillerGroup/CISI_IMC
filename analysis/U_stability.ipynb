{
 "cells": [
  {
   "cell_type": "markdown",
   "id": "aa3e7b70",
   "metadata": {},
   "source": [
    "# Test Stability of U \n",
    "#### (Using subsets of different sizes of the Tonsil data)"
   ]
  },
  {
   "cell_type": "markdown",
   "id": "c7b046f9",
   "metadata": {},
   "source": [
    "## Import Libraries\n",
    "\n",
    "First, we import the neccessary libraries."
   ]
  },
  {
   "cell_type": "code",
   "execution_count": 1,
   "id": "5bcfe9ff",
   "metadata": {},
   "outputs": [],
   "source": [
    "# Import libraries\n",
    "import anndata as ad\n",
    "from pathlib import Path\n",
    "import errno\n",
    "import os\n",
    "import numpy as np\n",
    "import pandas as pd\n",
    "import seaborn as sns"
   ]
  },
  {
   "cell_type": "markdown",
   "id": "a151797d",
   "metadata": {},
   "source": [
    "## Helper Functions\n",
    "\n",
    "Next, we import some helper functions including the cisi segementation training function."
   ]
  },
  {
   "cell_type": "code",
   "execution_count": 2,
   "id": "53a914bd",
   "metadata": {},
   "outputs": [],
   "source": [
    "# Helper fncs\n",
    "import analysis_utils\n",
    "\n",
    "\n",
    "## CISI\n",
    "# Import system libraries to configure code directory as module\n",
    "from os.path import dirname, abspath, join\n",
    "import sys\n",
    "\n",
    "# Find code directory relative to our directory\n",
    "THIS_DIR = dirname('__file__')\n",
    "CODE_DIR = abspath(join(THIS_DIR, '..', 'code'))\n",
    "# Add code directory to systems paths\n",
    "sys.path.append(CODE_DIR)\n",
    "\n",
    "# Import dictionary training fnc. (smaf)\n",
    "from compute_dictionary import smaf\n",
    "\n",
    "\n",
    "# Define fnc to compare correlation matrices\n",
    "def compare_cor(A, B):\n",
    "    return np.sum(abs(A - B))"
   ]
  },
  {
   "cell_type": "markdown",
   "id": "7124f068",
   "metadata": {},
   "source": [
    "## Inputs\n",
    "\n",
    "In the first part we specify the paths to the input files (.h5ad files created from R) and where the outputs should be stored."
   ]
  },
  {
   "cell_type": "code",
   "execution_count": 25,
   "id": "42b81cab",
   "metadata": {},
   "outputs": [],
   "source": [
    "# Specify input paths\n",
    "training_data_path = Path('/mnt/bb_dqbm_volume/data/Tonsil_th152')\n",
    "spe_path = Path(os.path.join(training_data_path, 'preprocessed_data/spe.h5ad'))\n",
    "\n",
    "\n",
    "# Specify output path\n",
    "out_path = Path(os.path.join(training_data_path, 'analysis/tests/test_U_stability'))\n",
    "out_path_d = Path(os.path.join(training_data_path, 'analysis/tests/test_U_stability_par/d'))\n",
    "\n",
    "# Create output directory if it doesn't exist\n",
    "out_path.mkdir(parents=True, exist_ok=True)\n",
    "out_path_d.mkdir(parents=True, exist_ok=True)"
   ]
  },
  {
   "cell_type": "code",
   "execution_count": 5,
   "id": "aefbb90b",
   "metadata": {},
   "outputs": [],
   "source": [
    "# Check that input files/dictionary exist\n",
    "if not analysis_utils.is_valid_file(spe_path, ['.h5ad']):\n",
    "    # If file is not found, throw error\n",
    "    raise FileNotFoundError(errno.ENOENT, os.strerror(errno.ENOENT),\n",
    "                            spe_path)"
   ]
  },
  {
   "cell_type": "markdown",
   "id": "573b54eb",
   "metadata": {},
   "source": [
    "Next, we read in the input files for training U and testing its stability concerning subsets of different sizes. For this we have the Tonsil th152 dataset consisting of 5 ROIs and we read the data in once it has been processed by steinbock into segmented single cells."
   ]
  },
  {
   "cell_type": "code",
   "execution_count": 6,
   "id": "b82f3e4f",
   "metadata": {},
   "outputs": [
    {
     "name": "stdout",
     "output_type": "stream",
     "text": [
      "View of AnnData object with n_obs × n_vars = 162624 × 40\n",
      "    obs: 'sample_id', 'ObjectNumber', 'area', 'major_axis_length', 'minor_axis_length', 'eccentricity', 'width_px', 'height_px', 'ROI'\n",
      "    var: 'channel', 'name', 'keep', 'ilastik', 'deepcell', 'Tube.Number', 'Metal', 'use_channel'\n",
      "    uns: 'X_name'\n",
      "    layers: 'exprs', 'log_exprs'\n"
     ]
    }
   ],
   "source": [
    "# Read in SpatialExperiment converted to anndata by cellconverter in R\n",
    "spe = ad.read_h5ad(spe_path)\n",
    "spe = spe[:, ~spe.var.index.str.contains('Histone|Ir[0-9]', regex=True, case=False)]\n",
    "print(spe)"
   ]
  },
  {
   "cell_type": "markdown",
   "id": "32f7e4a6",
   "metadata": {},
   "source": [
    "Next, we specify the parameters we want to use to compute the dictionary and how many times to assess it.\n"
   ]
  },
  {
   "cell_type": "code",
   "execution_count": 7,
   "id": "4eec0b4f",
   "metadata": {},
   "outputs": [],
   "source": [
    "# Set non-default parameters of smaf\n",
    "d = 80\n",
    "lda1 = 3\n",
    "lda2 = 0.2\n",
    "\n",
    "# Set parameters for stability analysis of U\n",
    "n_sizes = 10\n",
    "n_rep = 10"
   ]
  },
  {
   "cell_type": "markdown",
   "id": "e3e9fbcd",
   "metadata": {},
   "source": [
    "## Check different training sizes"
   ]
  },
  {
   "cell_type": "markdown",
   "id": "0808b620",
   "metadata": {},
   "source": [
    "In the following paragraphs, we compute the \"ground truth\" correlation between proteins in U by computing the correlation matrix of U of the full dataset n_rep times and taking its average. Then we compare this to the results of input data sets of different sizes (by taking the sum of the absolut differences between ground truth and each result)."
   ]
  },
  {
   "cell_type": "code",
   "execution_count": 17,
   "id": "e1c06904",
   "metadata": {
    "scrolled": true
   },
   "outputs": [],
   "source": [
    "# Calculate \"ground truth\" by computing the average correlation matrix of the full dataset\n",
    "cor_list = [-10.0] * n_rep \n",
    "for i in range(n_rep):\n",
    "        U, W = smaf(spe, d, lda1, lda2, normalization='paper_norm', layer=None,\n",
    "                    outpath=os.path.join(out_path, str(spe.shape[0]), str(i)))\n",
    "        cor_w_diag = np.corrcoef(U)\n",
    "        # Remove diagonal\n",
    "        cor_list[i] = cor_w_diag[~np.eye(len(cor_w_diag), dtype=bool)].reshape(len(cor_w_diag), -1)\n",
    "\n",
    "# Calculate \"ground truth\" as average of the five runs of the full data set\n",
    "cor_ground_truth = sum(cor_list) / n_rep\n",
    "\n",
    "\n",
    "# Initialize list of lists to hold results of distances between correlation matrices\n",
    "# cor_list_subset = [-10] * 6\n",
    "# cor_list_subset[5] = [compare_cor(c, cor_ground_truth) for c in pages]\n",
    "cor_list_subset = np.full((n_rep, n_sizes), 10.0)\n",
    "cor_list_subset[:, (n_sizes-1)] = np.array([compare_cor(c, cor_ground_truth) for c in cor_list])"
   ]
  },
  {
   "cell_type": "code",
   "execution_count": 18,
   "id": "cd237906",
   "metadata": {},
   "outputs": [
    {
     "name": "stderr",
     "output_type": "stream",
     "text": [
      "/home/ubuntu/anaconda3/envs/cisi_imc_env/lib/python3.10/site-packages/numpy/lib/function_base.py:2821: RuntimeWarning: Degrees of freedom <= 0 for slice\n",
      "  c = cov(x, y, rowvar, dtype=dtype)\n",
      "/home/ubuntu/anaconda3/envs/cisi_imc_env/lib/python3.10/site-packages/numpy/lib/function_base.py:2680: RuntimeWarning: divide by zero encountered in true_divide\n",
      "  c *= np.true_divide(1, fact)\n",
      "/home/ubuntu/anaconda3/envs/cisi_imc_env/lib/python3.10/site-packages/numpy/lib/function_base.py:2680: RuntimeWarning: invalid value encountered in multiply\n",
      "  c *= np.true_divide(1, fact)\n",
      "/home/ubuntu/anaconda3/envs/cisi_imc_env/lib/python3.10/site-packages/numpy/lib/function_base.py:2821: RuntimeWarning: Degrees of freedom <= 0 for slice\n",
      "  c = cov(x, y, rowvar, dtype=dtype)\n",
      "/home/ubuntu/anaconda3/envs/cisi_imc_env/lib/python3.10/site-packages/numpy/lib/function_base.py:2680: RuntimeWarning: divide by zero encountered in true_divide\n",
      "  c *= np.true_divide(1, fact)\n",
      "/home/ubuntu/anaconda3/envs/cisi_imc_env/lib/python3.10/site-packages/numpy/lib/function_base.py:2680: RuntimeWarning: invalid value encountered in multiply\n",
      "  c *= np.true_divide(1, fact)\n"
     ]
    }
   ],
   "source": [
    "## Calculate correlation matrix of the subsets of the dataset\n",
    "# For different subset sizes of spe, caculate n_rep times U and compare how close its\n",
    "# columnwise correlations are to the mean correlation matrix of the full dataset (excluding)\n",
    "# the diagonal\n",
    "j = 0\n",
    "for s in np.linspace(20000, spe.shape[0], n_sizes-1, dtype=int, endpoint=False):\n",
    "    for i in range(n_rep):\n",
    "        X_subset = spe[np.random.randint(spe.shape[0], size=(s)), ]\n",
    "        \n",
    "        U, W = smaf(X_subset, d, lda1, lda2, outpath=os.path.join(out_path, str(s), str(i)), \n",
    "                    normalization='paper_norm', layer=None)\n",
    "        cor_w_diag = np.corrcoef(U)\n",
    "        cor_wt_diag = cor_w_diag[~np.eye(len(cor_w_diag), dtype=bool)].reshape(len(cor_w_diag), -1)\n",
    "        \n",
    "        cor_list_subset[i, j] = compare_cor(cor_wt_diag, cor_ground_truth)\n",
    "    \n",
    "    j+=1\n",
    "        "
   ]
  },
  {
   "cell_type": "code",
   "execution_count": 24,
   "id": "dbc50848",
   "metadata": {},
   "outputs": [
    {
     "data": {
      "image/png": "[encoded data removed]",
      "text/plain": [
       "<Figure size 432x288 with 1 Axes>"
      ]
     },
     "metadata": {
      "needs_background": "light"
     },
     "output_type": "display_data"
    }
   ],
   "source": [
    "# Convert into pandas dataframe for easier handling\n",
    "cor_pd = pd.DataFrame(cor_list_subset, \n",
    "                      columns=np.append(np.linspace(20000, spe.shape[0], \n",
    "                                          n_sizes-1, dtype=int, endpoint=False), spe.shape[0]))\n",
    "# Melt dataframe into long format for plotting\n",
    "cor_pd_long = pd.melt(cor_pd, var_name='subset_size', value_name='distance')\n",
    "\n",
    "# Use seaborns regression fnc of order 2 to plot results\n",
    "ax = sns.regplot(x=\"subset_size\", y=\"distance\", data=cor_pd_long, order=1)"
   ]
  },
  {
   "cell_type": "markdown",
   "id": "396823ab",
   "metadata": {},
   "source": [
    "## Check different parameters\n",
    "### k-sparsity (lda1)"
   ]
  },
  {
   "cell_type": "code",
   "execution_count": 29,
   "id": "857d4e15",
   "metadata": {},
   "outputs": [],
   "source": [
    "# Specify list of k to try (1 to 10)\n",
    "k = np.arange(1, 10+1)\n",
    "for i in k:\n",
    "    for j in range(n_rep):\n",
    "        U, W = smaf(spe, d, i, lda2, normalization='paper_norm', layer=None,\n",
    "                    outpath=os.path.join(out_path_d, str(i), str(j)))\n",
    "        "
   ]
  },
  {
   "cell_type": "markdown",
   "id": "4367191b",
   "metadata": {},
   "source": [
    "## Save results"
   ]
  },
  {
   "cell_type": "code",
   "execution_count": 22,
   "id": "843cea5e",
   "metadata": {},
   "outputs": [],
   "source": [
    "cor_pd.to_csv(os.path.join(out_path, \"results.csv\"))"
   ]
  }
 ],
 "metadata": {
  "kernelspec": {
   "display_name": "cisi_imc",
   "language": "python",
   "name": "cisi_imc"
  },
  "language_info": {
   "codemirror_mode": {
    "name": "ipython",
    "version": 3
   },
   "file_extension": ".py",
   "mimetype": "text/x-python",
   "name": "python",
   "nbconvert_exporter": "python",
   "pygments_lexer": "ipython3",
   "version": "3.10.4"
  }
 },
 "nbformat": 4,
 "nbformat_minor": 5
}
